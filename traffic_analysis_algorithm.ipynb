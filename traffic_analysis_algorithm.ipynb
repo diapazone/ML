{
  "nbformat": 4,
  "nbformat_minor": 0,
  "metadata": {
    "colab": {
      "provenance": []
    },
    "kernelspec": {
      "name": "python3",
      "display_name": "Python 3"
    },
    "language_info": {
      "name": "python"
    }
  },
  "cells": [
    {
      "cell_type": "code",
      "execution_count": null,
      "metadata": {
        "id": "hYxoA40Fmi5d"
      },
      "outputs": [],
      "source": [
        "import pandas as pd\n",
        "import numpy as np\n",
        "import tensorflow as tf"
      ]
    },
    {
      "cell_type": "code",
      "source": [
        "# Загружаем данные\n",
        "raw_data = pd.read_csv('kddcup.data_10_percent.csv')"
      ],
      "metadata": {
        "id": "Y2ZLiC1cm8vC"
      },
      "execution_count": null,
      "outputs": []
    },
    {
      "cell_type": "code",
      "source": [
        "# Выбираем интересующие нас столбцы\n",
        "data = raw_data.iloc[:, [0, 1, 2, 3, 4, 5, 6, 7, 8, 9, 10, 11, 12, 13, 14, 15, 16, 17, 18, 19, 21]].values"
      ],
      "metadata": {
        "id": "RZ9Ivphpn35e"
      },
      "execution_count": null,
      "outputs": []
    },
    {
      "cell_type": "code",
      "source": [
        "# Закодируем целевую переменную (тип протокола) в бинарный формат\n",
        "from sklearn.preprocessing import LabelEncoder\n",
        "le = LabelEncoder()\n",
        "data[:, 20] = le.fit_transform(data[:, 20])\n",
        "# TCP - 1, UDP - 2, ICMP - 0, OTHER - 3"
      ],
      "metadata": {
        "id": "p4uXwPl6n8Kq"
      },
      "execution_count": null,
      "outputs": []
    },
    {
      "cell_type": "code",
      "source": [
        "# Разделим данные на обучающую и тестовую выборки\n",
        "from sklearn.model_selection import train_test_split\n",
        "X_train, X_test, y_train, y_test = train_test_split(data[:, :-1], data[:, -1], test_size=0.2, random_state=0)"
      ],
      "metadata": {
        "id": "kfqZxpQQn-or"
      },
      "execution_count": null,
      "outputs": []
    },
    {
      "cell_type": "code",
      "source": [
        "# Создаем модель\n",
        "encoder = tf.keras.models.Sequential([\n",
        "    tf.keras.layers.Dense(32, activation='relu', input_shape=(X_train.shape[1],)),\n",
        "    tf.keras.layers.Dense(16, activation='relu'),\n",
        "    tf.keras.layers.Dense(8, activation='relu')\n",
        "])\n",
        "decoder = tf.keras.models.Sequential([\n",
        "    tf.keras.layers.Dense(16, activation='relu', input_shape=(8,)),\n",
        "    tf.keras.layers.Dense(32, activation='relu'),\n",
        "    tf.keras.layers.Dense(X_train.shape[1], activation='sigmoid')\n",
        "])\n",
        "model = tf.keras.models.Sequential([\n",
        "    encoder,\n",
        "    decoder\n",
        "])"
      ],
      "metadata": {
        "id": "un0xS781n_nK"
      },
      "execution_count": null,
      "outputs": []
    },
    {
      "cell_type": "code",
      "source": [
        "# Компилируем модель\n",
        "model.compile(optimizer='adam',\n",
        "              loss='sparse_categorical_crossentropy',\n",
        "              metrics=['accuracy'])"
      ],
      "metadata": {
        "id": "cXq4_PLaoCsD"
      },
      "execution_count": null,
      "outputs": []
    },
    {
      "cell_type": "code",
      "source": [
        "# Обучаем модель\n",
        "history = model.fit(X_train.tolist(), y_train.tolist(), epochs=10, batch_size=32, validation_split=0.2)"
      ],
      "metadata": {
        "id": "88RjmFfVoEi6"
      },
      "execution_count": null,
      "outputs": []
    },
    {
      "cell_type": "code",
      "source": [
        "# Проверяем точность модели на тестовой выборке\n",
        "test_loss, test_acc = model.evaluate(X_test.tolist(), y_test.tolist())\n",
        "print('Test accuracy:', test_acc)"
      ],
      "metadata": {
        "id": "_IDyvUD3oGqZ"
      },
      "execution_count": null,
      "outputs": []
    }
  ]
}