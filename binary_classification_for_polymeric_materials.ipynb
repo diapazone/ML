{
  "nbformat": 4,
  "nbformat_minor": 0,
  "metadata": {
    "colab": {
      "provenance": []
    },
    "kernelspec": {
      "name": "python3",
      "display_name": "Python 3"
    },
    "language_info": {
      "name": "python"
    }
  },
  "cells": [
    {
      "cell_type": "code",
      "execution_count": null,
      "metadata": {
        "id": "P-tH2CHuGPlH"
      },
      "outputs": [],
      "source": [
        "!pip install image_slicer\n",
        "!pip install pypng\n",
        "!pip install Pillow\n",
        "!pip install natsort"
      ]
    },
    {
      "cell_type": "code",
      "source": [
        "import pandas as pd\n",
        "\n",
        "import numpy as np\n",
        "import matplotlib.pyplot as plt\n",
        "from tensorflow import keras\n",
        "from sklearn.preprocessing import MinMaxScaler\n",
        "from keras.models import Sequential\n",
        "from keras.layers import Dense\n",
        "from keras.layers import LSTM\n",
        "from keras.layers import Dropout\n",
        "from keras.models import Sequential\n",
        "from keras.layers.core import Dense, Dropout, Activation, Flatten\n",
        "from tensorflow.keras.layers import BatchNormalization\n",
        "from keras.callbacks import ModelCheckpoint, ReduceLROnPlateau, CSVLogger, EarlyStopping\n",
        "from tensorflow.keras.optimizers import RMSprop, Adam, SGD, Nadam\n",
        "from keras import regularizers\n",
        "import tensorflow as tf\n",
        "from tensorflow.keras import layers\n",
        "from sklearn.preprocessing import StandardScaler\n",
        "from tensorflow.keras.losses import categorical_crossentropy\n",
        "from keras.models import Model\n",
        "from sklearn.model_selection import train_test_split\n",
        "import scipy.stats as stats\n",
        "from keras.utils import np_utils\n",
        "from  keras.models import load_model\n",
        "from keras.utils.vis_utils import plot_model\n",
        "from keras.models import model_from_json\n",
        "\n",
        "from IPython.display import Image\n",
        "from PIL import Image\n",
        "import image_slicer\n",
        "import imageio\n",
        "import png\n",
        "\n",
        "import natsort\n",
        "import os\n",
        "import glob\n",
        "from numpy import asarray\n",
        "\n",
        "import shutil\n",
        "\n",
        "from PIL import Image, ImageSequence"
      ],
      "metadata": {
        "id": "dUcBtGJ-J_3q"
      },
      "execution_count": null,
      "outputs": []
    },
    {
      "cell_type": "code",
      "source": [
        "!mkdir bad_details\n",
        "!mkdir good_details\n",
        "!mkdir all_pictures"
      ],
      "metadata": {
        "id": "ZfUglTCbLK_1"
      },
      "execution_count": null,
      "outputs": []
    },
    {
      "cell_type": "code",
      "source": [
        "!unzip 'Плохое_качество_10.zip' -d /content/bad_details\n",
        "!unzip 'Хорошее_качество_10.zip' -d /content/good_details"
      ],
      "metadata": {
        "colab": {
          "base_uri": "https://localhost:8080/"
        },
        "id": "8QyoJtHsMKAS",
        "outputId": "cc5dbd4c-dd53-4bcf-926a-3f9dae44792b"
      },
      "execution_count": null,
      "outputs": [
        {
          "output_type": "stream",
          "name": "stdout",
          "text": [
            "Archive:  Плохое_качество_10.zip\n",
            "  inflating: /content/bad_details/b_rec0003.bmp  \n",
            "  inflating: /content/bad_details/b_rec0004.bmp  \n",
            "  inflating: /content/bad_details/b_rec0005.bmp  \n",
            "  inflating: /content/bad_details/b_rec0006.bmp  \n",
            "  inflating: /content/bad_details/b_rec0007.bmp  \n",
            "  inflating: /content/bad_details/b_rec0008.bmp  \n",
            "  inflating: /content/bad_details/b_rec0009.bmp  \n",
            "  inflating: /content/bad_details/b_rec0010.bmp  \n",
            "  inflating: /content/bad_details/b_rec0011.bmp  \n",
            "  inflating: /content/bad_details/b_rec0012.bmp  \n",
            "Archive:  Хорошее_качество_10.zip\n",
            "  inflating: /content/good_details/b_rec0540.tif  \n",
            "  inflating: /content/good_details/b_rec0541.tif  \n",
            "  inflating: /content/good_details/b_rec0542.tif  \n",
            "  inflating: /content/good_details/b_rec0543.tif  \n",
            "  inflating: /content/good_details/b_rec0544.tif  \n",
            "  inflating: /content/good_details/b_rec0545.tif  \n",
            "  inflating: /content/good_details/b_rec0546.tif  \n",
            "  inflating: /content/good_details/b_rec0547.tif  \n",
            "  inflating: /content/good_details/b_rec0548.tif  \n",
            "  inflating: /content/good_details/b_rec0549.tif  \n"
          ]
        }
      ]
    },
    {
      "cell_type": "code",
      "source": [
        "directory_path_good_detail = '/content/good_details'\n",
        "n = 1\n",
        "for img_path in natsort.natsorted(glob.glob(os.path.join(directory_path_good_detail, \"*.tif\")), reverse=False):\n",
        "  img = Image.open(img_path)\n",
        "  %cd /content/all_pictures\n",
        "  for i, page in enumerate(ImageSequence.Iterator(img)):\n",
        "    page.mode = 'I'\n",
        "    page.point(lambda i:i*(1./256)).convert('L').resize((300,300)).save(f'+{n}.png')\n",
        "  n += 1\n",
        "\n",
        "\n",
        "directory_path_bad_detail = '/content/bad_details'\n",
        "n = -1\n",
        "for img_path in natsort.natsorted(glob.glob(os.path.join(directory_path_bad_detail, \"*.bmp\")), reverse=False):\n",
        "  img = Image.open(img_path)\n",
        "  img.resize((300,300)).save(f'/content/all_pictures/{n}.png')\n",
        "  n -= 1"
      ],
      "metadata": {
        "colab": {
          "base_uri": "https://localhost:8080/"
        },
        "id": "egsE3LjwP9ix",
        "outputId": "1204ec20-e594-4389-88ce-9eafd375c6ad"
      },
      "execution_count": null,
      "outputs": [
        {
          "output_type": "stream",
          "name": "stdout",
          "text": [
            "/content/all_pictures\n",
            "/content/all_pictures\n",
            "/content/all_pictures\n",
            "/content/all_pictures\n",
            "/content/all_pictures\n",
            "/content/all_pictures\n",
            "/content/all_pictures\n",
            "/content/all_pictures\n",
            "/content/all_pictures\n",
            "/content/all_pictures\n"
          ]
        }
      ]
    },
    {
      "cell_type": "code",
      "source": [
        "# Делаем метки\n",
        "label = []\n",
        "for image in natsort.natsorted(glob.glob(os.path.join('/content/all_pictures',\"*.png\"))):\n",
        "  if int(image[22:24]) < 0:\n",
        "    label.append(0)\n",
        "  else:\n",
        "    label.append(1)\n",
        "\n",
        "labels_array = np.array(label)\n",
        "labels_array"
      ],
      "metadata": {
        "colab": {
          "base_uri": "https://localhost:8080/"
        },
        "id": "071QMyAmbgYf",
        "outputId": "a63ed1cd-95fb-461f-cfb6-5e966111fb57"
      },
      "execution_count": null,
      "outputs": [
        {
          "output_type": "execute_result",
          "data": {
            "text/plain": [
              "array([1, 1, 1, 1, 1, 1, 1, 1, 1, 1, 0, 0, 0, 0, 0, 0, 0, 0, 0, 0])"
            ]
          },
          "metadata": {},
          "execution_count": 34
        }
      ]
    },
    {
      "cell_type": "code",
      "source": [
        "# Преобразуем изображение в нужный нам формат\n",
        "directory_path_3 = '/content/all_pictures'\n",
        "\n",
        "Data_array = np.empty((1, 300, 300))\n",
        "for img_path in natsort.natsorted(glob.glob(os.path.join(directory_path_3, \"*.png\")), reverse=False):\n",
        "  im_gray = np.array(Image.open(img_path).convert('L'))\n",
        "  im_gray_array = im_gray[np.newaxis]\n",
        "  Data_array = np.vstack((Data_array, im_gray_array))\n",
        "\n",
        "\n",
        "Final_array = Data_array[1:labels_array.shape[0]+1]"
      ],
      "metadata": {
        "id": "XeB-vWAVXa3C"
      },
      "execution_count": null,
      "outputs": []
    },
    {
      "cell_type": "code",
      "source": [
        "labels_array_bin = np_utils.to_categorical(labels_array, num_classes = 2)"
      ],
      "metadata": {
        "id": "4psZRyl6e7PD"
      },
      "execution_count": null,
      "outputs": []
    },
    {
      "cell_type": "code",
      "source": [
        "labels_array"
      ],
      "metadata": {
        "colab": {
          "base_uri": "https://localhost:8080/"
        },
        "id": "BoNWOq3DkFxo",
        "outputId": "0547d6af-9899-4135-861f-bd729141599d"
      },
      "execution_count": null,
      "outputs": [
        {
          "output_type": "execute_result",
          "data": {
            "text/plain": [
              "array([1, 1, 1, 1, 1, 1, 1, 1, 1, 1, 0, 0, 0, 0, 0, 0, 0, 0, 0, 0])"
            ]
          },
          "metadata": {},
          "execution_count": 37
        }
      ]
    },
    {
      "cell_type": "code",
      "source": [
        "Final_array"
      ],
      "metadata": {
        "colab": {
          "base_uri": "https://localhost:8080/"
        },
        "id": "ScPMnuXjfKl-",
        "outputId": "60846dcb-6b54-4720-9510-93e7267329e6"
      },
      "execution_count": null,
      "outputs": [
        {
          "output_type": "execute_result",
          "data": {
            "text/plain": [
              "array([[[0., 0., 0., ..., 0., 0., 0.],\n",
              "        [0., 0., 0., ..., 0., 0., 0.],\n",
              "        [0., 0., 0., ..., 0., 0., 0.],\n",
              "        ...,\n",
              "        [0., 0., 0., ..., 0., 0., 0.],\n",
              "        [0., 0., 0., ..., 0., 0., 0.],\n",
              "        [0., 0., 0., ..., 0., 0., 0.]],\n",
              "\n",
              "       [[0., 0., 0., ..., 0., 0., 0.],\n",
              "        [0., 0., 0., ..., 0., 0., 0.],\n",
              "        [0., 0., 0., ..., 0., 0., 0.],\n",
              "        ...,\n",
              "        [0., 0., 0., ..., 0., 0., 0.],\n",
              "        [0., 0., 0., ..., 0., 0., 0.],\n",
              "        [0., 0., 0., ..., 0., 0., 0.]],\n",
              "\n",
              "       [[0., 0., 0., ..., 0., 0., 0.],\n",
              "        [0., 0., 0., ..., 0., 0., 0.],\n",
              "        [0., 0., 0., ..., 0., 0., 0.],\n",
              "        ...,\n",
              "        [0., 0., 0., ..., 0., 0., 0.],\n",
              "        [0., 0., 0., ..., 0., 0., 0.],\n",
              "        [0., 0., 0., ..., 0., 0., 0.]],\n",
              "\n",
              "       ...,\n",
              "\n",
              "       [[0., 0., 0., ..., 0., 0., 0.],\n",
              "        [0., 0., 0., ..., 0., 0., 0.],\n",
              "        [0., 0., 0., ..., 0., 0., 0.],\n",
              "        ...,\n",
              "        [0., 0., 0., ..., 0., 0., 0.],\n",
              "        [0., 0., 0., ..., 0., 0., 0.],\n",
              "        [0., 0., 0., ..., 0., 0., 0.]],\n",
              "\n",
              "       [[0., 0., 0., ..., 0., 0., 0.],\n",
              "        [0., 0., 0., ..., 0., 0., 0.],\n",
              "        [0., 0., 0., ..., 0., 0., 0.],\n",
              "        ...,\n",
              "        [0., 0., 0., ..., 0., 0., 0.],\n",
              "        [0., 0., 0., ..., 0., 0., 0.],\n",
              "        [0., 0., 0., ..., 0., 0., 0.]],\n",
              "\n",
              "       [[0., 0., 0., ..., 0., 0., 0.],\n",
              "        [0., 0., 0., ..., 0., 0., 0.],\n",
              "        [0., 0., 0., ..., 0., 0., 0.],\n",
              "        ...,\n",
              "        [0., 0., 0., ..., 0., 0., 0.],\n",
              "        [0., 0., 0., ..., 0., 0., 0.],\n",
              "        [0., 0., 0., ..., 0., 0., 0.]]])"
            ]
          },
          "metadata": {},
          "execution_count": 38
        }
      ]
    },
    {
      "cell_type": "code",
      "source": [
        "# делим датасет на train, validation и test\n",
        "data_array_for_train_val = Final_array[:int(Final_array.shape[0]*0.5)]\n",
        "labels_array_bin_for_train_val = labels_array_bin[:int(labels_array_bin.shape[0]*0.5)]\n",
        "\n",
        "data_array_for_test = Final_array[int(Final_array.shape[0]*0.64):]\n",
        "labels_array_bin_for_test = labels_array_bin[int(labels_array_bin.shape[0]*0.64):]\n",
        "\n",
        "print(data_array_for_train_val.shape)\n",
        "print(labels_array_bin_for_train_val.shape)\n",
        "\n",
        "print(data_array_for_test.shape)\n",
        "print(labels_array_bin_for_test.shape)"
      ],
      "metadata": {
        "colab": {
          "base_uri": "https://localhost:8080/"
        },
        "id": "VsS9x3LHXK07",
        "outputId": "ef563143-a613-443a-82d9-09671692b02b"
      },
      "execution_count": null,
      "outputs": [
        {
          "output_type": "stream",
          "name": "stdout",
          "text": [
            "(10, 300, 300)\n",
            "(10, 2)\n",
            "(8, 300, 300)\n",
            "(8, 2)\n"
          ]
        }
      ]
    },
    {
      "cell_type": "code",
      "source": [
        "img_rows = Final_array.shape[1]\n",
        "img_columns =  Final_array.shape[2]\n",
        "print(img_rows)\n",
        "print(img_columns)"
      ],
      "metadata": {
        "colab": {
          "base_uri": "https://localhost:8080/"
        },
        "id": "cszccp5gXK6C",
        "outputId": "8b2570aa-bab2-4180-8209-3c9d7882185e"
      },
      "execution_count": null,
      "outputs": [
        {
          "output_type": "stream",
          "name": "stdout",
          "text": [
            "300\n",
            "300\n"
          ]
        }
      ]
    },
    {
      "cell_type": "code",
      "source": [
        "opt = tf.keras.optimizers.Adam(learning_rate=1e-05)\n",
        "sgd = SGD(learning_rate=1e-05)\n",
        "weights_file = 'CNN_1_weights.h5'\n",
        "callback = ModelCheckpoint(weights_file,\n",
        "              monitor='val_accuracy',\n",
        "              mode='max',\n",
        "              save_best_only=True)\n",
        "es = EarlyStopping(monitor='val_loss', patience=2, verbose=1)\n",
        "\n",
        "CNN = Sequential()\n",
        "CNN.add(tf.keras.layers.Conv2D(64, (5,3), kernel_initializer='glorot_uniform', padding='same', strides = (3,1), dilation_rate=(1, 1), input_shape=(img_rows, img_columns, 1)))\n",
        "CNN.add(BatchNormalization())\n",
        "CNN.add(Activation('LeakyReLU'))\n",
        "CNN.add(tf.keras.layers.MaxPooling2D(pool_size=(2, 1)))\n",
        "CNN.add(tf.keras.layers.Conv2D(128, (5,3), kernel_initializer='glorot_uniform', padding='same', input_shape=(img_rows, img_columns, 1)))\n",
        "CNN.add(BatchNormalization())\n",
        "CNN.add(Activation('LeakyReLU'))\n",
        "\n",
        "CNN.add(tf.keras.layers.MaxPooling2D(pool_size=(2, 1)))\n",
        "CNN.add(tf.keras.layers.Conv2D(256, (5,3), kernel_initializer='glorot_uniform', padding='same', input_shape=(img_rows, img_columns, 1)))\n",
        "CNN.add(BatchNormalization())\n",
        "CNN.add(Activation('LeakyReLU'))\n",
        "\n",
        "CNN.add(tf.keras.layers.MaxPooling2D(pool_size=(2, 1)))\n",
        "CNN.add(Flatten())\n",
        "CNN.add(Dropout(0.5))\n",
        "CNN.add(Dense(2, activation = 'softmax'))\n",
        "\n",
        "\n",
        "CNN.summary()"
      ],
      "metadata": {
        "colab": {
          "base_uri": "https://localhost:8080/"
        },
        "id": "3dfgXspBXK8W",
        "outputId": "71fee6ac-0f61-443d-a3c4-3189b0438ace"
      },
      "execution_count": null,
      "outputs": [
        {
          "output_type": "stream",
          "name": "stdout",
          "text": [
            "Model: \"sequential_1\"\n",
            "_________________________________________________________________\n",
            " Layer (type)                Output Shape              Param #   \n",
            "=================================================================\n",
            " conv2d_3 (Conv2D)           (None, 100, 300, 64)      1024      \n",
            "                                                                 \n",
            " batch_normalization_3 (Batc  (None, 100, 300, 64)     256       \n",
            " hNormalization)                                                 \n",
            "                                                                 \n",
            " activation_3 (Activation)   (None, 100, 300, 64)      0         \n",
            "                                                                 \n",
            " max_pooling2d_3 (MaxPooling  (None, 50, 300, 64)      0         \n",
            " 2D)                                                             \n",
            "                                                                 \n",
            " conv2d_4 (Conv2D)           (None, 50, 300, 128)      123008    \n",
            "                                                                 \n",
            " batch_normalization_4 (Batc  (None, 50, 300, 128)     512       \n",
            " hNormalization)                                                 \n",
            "                                                                 \n",
            " activation_4 (Activation)   (None, 50, 300, 128)      0         \n",
            "                                                                 \n",
            " max_pooling2d_4 (MaxPooling  (None, 25, 300, 128)     0         \n",
            " 2D)                                                             \n",
            "                                                                 \n",
            " conv2d_5 (Conv2D)           (None, 25, 300, 256)      491776    \n",
            "                                                                 \n",
            " batch_normalization_5 (Batc  (None, 25, 300, 256)     1024      \n",
            " hNormalization)                                                 \n",
            "                                                                 \n",
            " activation_5 (Activation)   (None, 25, 300, 256)      0         \n",
            "                                                                 \n",
            " max_pooling2d_5 (MaxPooling  (None, 12, 300, 256)     0         \n",
            " 2D)                                                             \n",
            "                                                                 \n",
            " flatten_1 (Flatten)         (None, 921600)            0         \n",
            "                                                                 \n",
            " dropout_1 (Dropout)         (None, 921600)            0         \n",
            "                                                                 \n",
            " dense_1 (Dense)             (None, 2)                 1843202   \n",
            "                                                                 \n",
            "=================================================================\n",
            "Total params: 2,460,802\n",
            "Trainable params: 2,459,906\n",
            "Non-trainable params: 896\n",
            "_________________________________________________________________\n"
          ]
        }
      ]
    },
    {
      "cell_type": "code",
      "source": [
        "CNN.compile(optimizer=sgd, loss = 'binary_crossentropy', metrics=['accuracy'])\n",
        "history = CNN.fit(data_array_for_train_val,\n",
        "                    labels_array_bin_for_train_val,\n",
        "                    batch_size = 128,\n",
        "                    epochs=1000,\n",
        "                    validation_split=0.3,\n",
        "                    verbose=1,\n",
        "                    callbacks = [callback, es])"
      ],
      "metadata": {
        "colab": {
          "base_uri": "https://localhost:8080/"
        },
        "id": "9s7PcF-efi4Q",
        "outputId": "b9d824cc-0633-4759-b0c9-162fad976634"
      },
      "execution_count": null,
      "outputs": [
        {
          "output_type": "stream",
          "name": "stdout",
          "text": [
            "Epoch 1/1000\n",
            "1/1 [==============================] - 18s 18s/step - loss: 1.1259 - accuracy: 0.4286 - val_loss: 0.0396 - val_accuracy: 1.0000\n",
            "Epoch 2/1000\n",
            "1/1 [==============================] - 9s 9s/step - loss: 0.1518 - accuracy: 1.0000 - val_loss: 0.0291 - val_accuracy: 1.0000\n",
            "Epoch 3/1000\n",
            "1/1 [==============================] - 7s 7s/step - loss: 0.2799 - accuracy: 1.0000 - val_loss: 0.0118 - val_accuracy: 1.0000\n",
            "Epoch 4/1000\n",
            "1/1 [==============================] - 9s 9s/step - loss: 0.1970 - accuracy: 1.0000 - val_loss: 0.0083 - val_accuracy: 1.0000\n",
            "Epoch 5/1000\n",
            "1/1 [==============================] - 9s 9s/step - loss: 0.0301 - accuracy: 1.0000 - val_loss: 0.0090 - val_accuracy: 1.0000\n",
            "Epoch 6/1000\n",
            "1/1 [==============================] - 7s 7s/step - loss: 0.0548 - accuracy: 1.0000 - val_loss: 0.0086 - val_accuracy: 1.0000\n",
            "Epoch 6: early stopping\n"
          ]
        }
      ]
    },
    {
      "cell_type": "code",
      "source": [
        "                                                ### График ошибки и качества ###\n",
        "plt.plot(history.history['loss'],\n",
        "         label='ошибка')\n",
        "plt.plot(history.history['val_loss'],\n",
        "         label='ошибка на проверочном наборе')\n",
        "plt.xlabel('Эпоха обучения')\n",
        "plt.ylabel('Ошибка')\n",
        "plt.legend()\n",
        "plt.show()\n",
        "\n",
        "\n",
        "plt.plot(history.history['accuracy'],\n",
        "         label='точность на тренировочном наборе')\n",
        "plt.plot(history.history['val_accuracy'],\n",
        "         label='точность на проверочном наборе')\n",
        "plt.xlabel('Эпоха обучения')\n",
        "plt.ylabel('Точность')\n",
        "plt.legend()\n",
        "plt.show()"
      ],
      "metadata": {
        "colab": {
          "base_uri": "https://localhost:8080/",
          "height": 881
        },
        "id": "WBbfBDX3fle-",
        "outputId": "5b14437a-9f9f-47ad-c141-2f23cab36543"
      },
      "execution_count": null,
      "outputs": [
        {
          "output_type": "display_data",
          "data": {
            "text/plain": [
              "<Figure size 640x480 with 1 Axes>"
            ],
            "image/png": "[encoded data removed]"
          },
          "metadata": {}
        },
        {
          "output_type": "display_data",
          "data": {
            "text/plain": [
              "<Figure size 640x480 with 1 Axes>"
            ],
            "image/png": "[encoded data removed]"
          },
          "metadata": {}
        }
      ]
    },
    {
      "cell_type": "code",
      "source": [
        "scores = CNN.evaluate(data_array_for_test, labels_array_bin_for_test)\n",
        "print(scores[1])"
      ],
      "metadata": {
        "colab": {
          "base_uri": "https://localhost:8080/"
        },
        "id": "-yFF6h5yflhw",
        "outputId": "55a395f8-5440-4b5c-8196-583841802c78"
      },
      "execution_count": null,
      "outputs": [
        {
          "output_type": "stream",
          "name": "stdout",
          "text": [
            "1/1 [==============================] - 3s 3s/step - loss: 4.4891 - accuracy: 0.0000e+00\n",
            "0.0\n"
          ]
        }
      ]
    },
    {
      "cell_type": "code",
      "source": [
        "prediction = CNN.predict(data_array_for_test)"
      ],
      "metadata": {
        "colab": {
          "base_uri": "https://localhost:8080/"
        },
        "id": "ymaEtS3Zflk5",
        "outputId": "cca4fdb7-6efb-4554-baeb-eba8426dda29"
      },
      "execution_count": null,
      "outputs": [
        {
          "output_type": "stream",
          "name": "stdout",
          "text": [
            "1/1 [==============================] - 2s 2s/step\n"
          ]
        }
      ]
    },
    {
      "cell_type": "code",
      "source": [
        "prediction"
      ],
      "metadata": {
        "colab": {
          "base_uri": "https://localhost:8080/"
        },
        "id": "XgC0n8hKjwKA",
        "outputId": "1d57b2a7-135f-400e-a62c-0cb7c67b2aa9"
      },
      "execution_count": null,
      "outputs": [
        {
          "output_type": "execute_result",
          "data": {
            "text/plain": [
              "array([[1.3617222e-04, 9.9986386e-01],\n",
              "       [1.5574398e-04, 9.9984431e-01],\n",
              "       [1.1057732e-04, 9.9988931e-01],\n",
              "       [9.6756565e-05, 9.9990314e-01],\n",
              "       [1.3738753e-04, 9.9986267e-01],\n",
              "       [1.3060293e-04, 9.9986935e-01],\n",
              "       [1.5085137e-04, 9.9984908e-01],\n",
              "       [1.2817395e-04, 9.9987197e-01]], dtype=float32)"
            ]
          },
          "metadata": {},
          "execution_count": 51
        }
      ]
    },
    {
      "cell_type": "code",
      "source": [
        "labels_array_for_test = labels_array[int(labels_array.shape[0]*0.64):]\n",
        "print(np.argmax(prediction,  axis=1))\n",
        "print(labels_array_for_test)"
      ],
      "metadata": {
        "colab": {
          "base_uri": "https://localhost:8080/"
        },
        "id": "2Npc_wKHfqer",
        "outputId": "1757973d-7401-4720-a550-e734d7d347b2"
      },
      "execution_count": null,
      "outputs": [
        {
          "output_type": "stream",
          "name": "stdout",
          "text": [
            "[1 1 1 1 1 1 1 1]\n",
            "[0 0 0 0 0 0 0 0]\n"
          ]
        }
      ]
    },
    {
      "cell_type": "code",
      "source": [
        "from sklearn.metrics import precision_recall_curve, classification_report\n",
        "from sklearn.metrics import precision_recall_fscore_support as score\n",
        "precision, recall, fscore, support = score(labels_array_for_test, np.argmax(prediction,  axis=1))\n",
        "report = classification_report(labels_array_for_test, np.argmax(prediction,  axis=1))\n",
        "print(report)"
      ],
      "metadata": {
        "colab": {
          "base_uri": "https://localhost:8080/"
        },
        "id": "WfhcRpIHfqg5",
        "outputId": "ce70569f-157a-44a8-9952-2942bcd6d579"
      },
      "execution_count": null,
      "outputs": [
        {
          "output_type": "stream",
          "name": "stdout",
          "text": [
            "              precision    recall  f1-score   support\n",
            "\n",
            "           0       0.00      0.00      0.00       8.0\n",
            "           1       0.00      0.00      0.00       0.0\n",
            "\n",
            "    accuracy                           0.00       8.0\n",
            "   macro avg       0.00      0.00      0.00       8.0\n",
            "weighted avg       0.00      0.00      0.00       8.0\n",
            "\n"
          ]
        },
        {
          "output_type": "stream",
          "name": "stderr",
          "text": [
            "/usr/local/lib/python3.10/dist-packages/sklearn/metrics/_classification.py:1344: UndefinedMetricWarning: Precision and F-score are ill-defined and being set to 0.0 in labels with no predicted samples. Use `zero_division` parameter to control this behavior.\n",
            "  _warn_prf(average, modifier, msg_start, len(result))\n",
            "/usr/local/lib/python3.10/dist-packages/sklearn/metrics/_classification.py:1344: UndefinedMetricWarning: Recall and F-score are ill-defined and being set to 0.0 in labels with no true samples. Use `zero_division` parameter to control this behavior.\n",
            "  _warn_prf(average, modifier, msg_start, len(result))\n",
            "/usr/local/lib/python3.10/dist-packages/sklearn/metrics/_classification.py:1344: UndefinedMetricWarning: Precision and F-score are ill-defined and being set to 0.0 in labels with no predicted samples. Use `zero_division` parameter to control this behavior.\n",
            "  _warn_prf(average, modifier, msg_start, len(result))\n",
            "/usr/local/lib/python3.10/dist-packages/sklearn/metrics/_classification.py:1344: UndefinedMetricWarning: Recall and F-score are ill-defined and being set to 0.0 in labels with no true samples. Use `zero_division` parameter to control this behavior.\n",
            "  _warn_prf(average, modifier, msg_start, len(result))\n",
            "/usr/local/lib/python3.10/dist-packages/sklearn/metrics/_classification.py:1344: UndefinedMetricWarning: Precision and F-score are ill-defined and being set to 0.0 in labels with no predicted samples. Use `zero_division` parameter to control this behavior.\n",
            "  _warn_prf(average, modifier, msg_start, len(result))\n",
            "/usr/local/lib/python3.10/dist-packages/sklearn/metrics/_classification.py:1344: UndefinedMetricWarning: Recall and F-score are ill-defined and being set to 0.0 in labels with no true samples. Use `zero_division` parameter to control this behavior.\n",
            "  _warn_prf(average, modifier, msg_start, len(result))\n",
            "/usr/local/lib/python3.10/dist-packages/sklearn/metrics/_classification.py:1344: UndefinedMetricWarning: Precision and F-score are ill-defined and being set to 0.0 in labels with no predicted samples. Use `zero_division` parameter to control this behavior.\n",
            "  _warn_prf(average, modifier, msg_start, len(result))\n",
            "/usr/local/lib/python3.10/dist-packages/sklearn/metrics/_classification.py:1344: UndefinedMetricWarning: Recall and F-score are ill-defined and being set to 0.0 in labels with no true samples. Use `zero_division` parameter to control this behavior.\n",
            "  _warn_prf(average, modifier, msg_start, len(result))\n"
          ]
        }
      ]
    }
  ]
}